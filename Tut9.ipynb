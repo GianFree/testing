{
 "cells": [
  {
   "cell_type": "code",
   "execution_count": 1,
   "metadata": {},
   "outputs": [],
   "source": [
    "import MDAnalysis as mda\n",
    "import prody "
   ]
  },
  {
   "cell_type": "code",
   "execution_count": 3,
   "metadata": {},
   "outputs": [
    {
     "name": "stdout",
     "output_type": "stream",
     "text": [
      "0.19.2\n",
      "1.10.7\n"
     ]
    }
   ],
   "source": [
    "print(mda.__version__)\n",
    "print(prody.__version__)"
   ]
  },
  {
   "cell_type": "markdown",
   "metadata": {},
   "source": [
    "### importing files"
   ]
  },
  {
   "cell_type": "markdown",
   "metadata": {},
   "source": [
    "Let's now import the "
   ]
  },
  {
   "cell_type": "code",
   "execution_count": 4,
   "metadata": {},
   "outputs": [],
   "source": [
    "from MDAnalysisData.datasets import fetch_adk_equilibrium\n",
    "from MDAnalysis.tests.datafiles import PSF, DCD, PDB"
   ]
  },
  {
   "cell_type": "raw",
   "metadata": {},
   "source": [
    "try:\n",
    "    from MDAnalysis.tests.datafiles import PSF, DCD\n",
    "except:\n",
    "    pass"
   ]
  },
  {
   "cell_type": "code",
   "execution_count": 5,
   "metadata": {},
   "outputs": [
    {
     "data": {
      "text/plain": [
       "{'topology': '/home/jarvis/MDAnalysis_data/adk_equilibrium/adk4AKE.psf',\n",
       " 'trajectory': '/home/jarvis/MDAnalysis_data/adk_equilibrium/1ake_007-nowater-core-dt240ps.dcd',\n",
       " 'DESCR': '.. -*- coding: utf-8 -*-\\n\\n.. _`adk-equilibrium-dataset`:\\n\\nAdK equilibrium trajectory dataset\\n==================================\\n\\nMD trajectory of apo adenylate kinase with CHARMM27 force field and\\nsimulated with explicit water and ions in NPT at 300 K and 1\\nbar. Saved every 240 ps for a total of 1.004 µs. Produced on PSC\\nAnton. The trajectory only contains the protein while all solvent was\\nstripped in order to reduce the trajectory size. The whole protein was\\nsuperimposed on the CORE domain of AdK by RMSD fitting.\\n\\nThe topology is contained in the PSF file (CHARMM format). The\\ntrajectory is contained in the DCD file (CHARMM/NAMD format).\\n\\n\\nNotes\\n-----\\n\\nData set characteristics:\\n\\n :size: 161 MB\\n :number of trajectories: 1\\n :number of frames:  4187\\n :number of particles: 3341\\n :creator: Sean Seyler\\n :URL:  `10.6084/m9.figshare.5108170.v1 <https://doi.org/10.6084/m9.figshare.5108170.v1>`_\\n :license: `CC-BY 4.0 <https://creativecommons.org/licenses/by/4.0/legalcode>`_\\n :reference: [Seyler2017]_\\n    \\n\\n.. [Seyler2017]  Seyler, Sean; Beckstein, Oliver (2017): Molecular dynamics\\n\\t   trajectory for benchmarking\\n\\t   MDAnalysis. figshare. Fileset. doi:\\n\\t   `10.6084/m9.figshare.5108170.v1\\n\\t   <https://doi.org/10.6084/m9.figshare.5108170.v1>`_\\n\\n'}"
      ]
     },
     "execution_count": 5,
     "metadata": {},
     "output_type": "execute_result"
    }
   ],
   "source": [
    "adk = fetch_adk_equilibrium()"
   ]
  },
  {
   "cell_type": "code",
   "execution_count": null,
   "metadata": {},
   "outputs": [],
   "source": [
    "PSF"
   ]
  },
  {
   "cell_type": "code",
   "execution_count": null,
   "metadata": {},
   "outputs": [],
   "source": [
    "u = mda.Universe(adk.topology, adk.trajectory)"
   ]
  },
  {
   "cell_type": "markdown",
   "metadata": {},
   "source": [
    "### do_RMSD"
   ]
  },
  {
   "cell_type": "code",
   "execution_count": null,
   "metadata": {},
   "outputs": [],
   "source": []
  },
  {
   "cell_type": "code",
   "execution_count": null,
   "metadata": {},
   "outputs": [],
   "source": []
  },
  {
   "cell_type": "markdown",
   "metadata": {},
   "source": [
    "### do_RSMF"
   ]
  },
  {
   "cell_type": "code",
   "execution_count": null,
   "metadata": {},
   "outputs": [],
   "source": []
  },
  {
   "cell_type": "code",
   "execution_count": null,
   "metadata": {},
   "outputs": [],
   "source": []
  },
  {
   "cell_type": "markdown",
   "metadata": {},
   "source": [
    "### do_Hbond"
   ]
  },
  {
   "cell_type": "code",
   "execution_count": null,
   "metadata": {},
   "outputs": [],
   "source": []
  },
  {
   "cell_type": "code",
   "execution_count": null,
   "metadata": {},
   "outputs": [],
   "source": []
  },
  {
   "cell_type": "markdown",
   "metadata": {},
   "source": [
    "### do_Rgyr"
   ]
  },
  {
   "cell_type": "code",
   "execution_count": null,
   "metadata": {},
   "outputs": [],
   "source": []
  },
  {
   "cell_type": "code",
   "execution_count": null,
   "metadata": {},
   "outputs": [],
   "source": []
  },
  {
   "cell_type": "markdown",
   "metadata": {},
   "source": [
    "### do_Cluster"
   ]
  },
  {
   "cell_type": "code",
   "execution_count": null,
   "metadata": {},
   "outputs": [],
   "source": []
  },
  {
   "cell_type": "code",
   "execution_count": null,
   "metadata": {},
   "outputs": [],
   "source": []
  },
  {
   "cell_type": "markdown",
   "metadata": {},
   "source": [
    "### do_PCA"
   ]
  },
  {
   "cell_type": "code",
   "execution_count": null,
   "metadata": {},
   "outputs": [],
   "source": []
  },
  {
   "cell_type": "code",
   "execution_count": null,
   "metadata": {},
   "outputs": [],
   "source": []
  },
  {
   "cell_type": "markdown",
   "metadata": {},
   "source": [
    "### do_ENA"
   ]
  },
  {
   "cell_type": "code",
   "execution_count": null,
   "metadata": {},
   "outputs": [],
   "source": []
  },
  {
   "cell_type": "code",
   "execution_count": null,
   "metadata": {},
   "outputs": [],
   "source": []
  },
  {
   "cell_type": "markdown",
   "metadata": {},
   "source": []
  }
 ],
 "metadata": {
  "hide_input": false,
  "kernelspec": {
   "display_name": "Python (tut9)",
   "language": "python",
   "name": "tut9"
  },
  "language_info": {
   "codemirror_mode": {
    "name": "ipython",
    "version": 3
   },
   "file_extension": ".py",
   "mimetype": "text/x-python",
   "name": "python",
   "nbconvert_exporter": "python",
   "pygments_lexer": "ipython3",
   "version": "3.6.6"
  },
  "toc": {
   "base_numbering": 1,
   "nav_menu": {},
   "number_sections": true,
   "sideBar": true,
   "skip_h1_title": false,
   "title_cell": "Table of Contents",
   "title_sidebar": "Contents",
   "toc_cell": false,
   "toc_position": {},
   "toc_section_display": true,
   "toc_window_display": true
  }
 },
 "nbformat": 4,
 "nbformat_minor": 2
}
